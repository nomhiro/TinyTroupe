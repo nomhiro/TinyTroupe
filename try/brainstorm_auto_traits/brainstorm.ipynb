{
 "cells": [
  {
   "cell_type": "code",
   "execution_count": 20,
   "metadata": {},
   "outputs": [
    {
     "name": "stdout",
     "output_type": "stream",
     "text": [
      "c:\\Users\\AdmUser\\Documents\\TinyTroupe\\try\\brainstorm_auto_traits\n",
      "c:\\Users\\AdmUser\\Documents\\TinyTroupe\\try\\brainstorm_auto_traits\n"
     ]
    },
    {
     "data": {
      "text/plain": [
       "<configparser.ConfigParser at 0x1d43a9da490>"
      ]
     },
     "execution_count": 20,
     "metadata": {},
     "output_type": "execute_result"
    }
   ],
   "source": [
    "from tinytroupe.agent import TinyPerson\n",
    "from tinytroupe.environment import TinyWorld\n",
    "from tinytroupe.factory import TinyPersonFactory\n",
    "from tinytroupe.extraction import ResultsExtractor\n",
    "from tinytroupe.utils import read_config_file\n",
    "\n",
    "from dotenv import load_dotenv\n",
    "import json, os\n",
    "\n",
    "load_dotenv()\n",
    "\n",
    "print(os.getcwd())\n",
    "\n",
    "from pathlib import Path\n",
    "print(Path.cwd())\n",
    "\n",
    "read_config_file()"
   ]
  },
  {
   "cell_type": "markdown",
   "metadata": {},
   "source": [
    "## エージェントを作成"
   ]
  },
  {
   "cell_type": "code",
   "execution_count": null,
   "metadata": {},
   "outputs": [],
   "source": [
    "# エージェントを作成\n",
    "factory = TinyPersonFactory(\"新しい日本の産業を生み出すためのワークショップ\")\n",
    "ai_engineer = factory.generate_person(\n",
    "  \"\"\"\n",
    "  AIエンジニア。機械学習と生成AIを組み合わせて、企業向けのAIツールを開発及び展開している。\n",
    "  エンドユーザの課題を見つけ出し、AIを活用して解決することに注力している。\n",
    "  \"\"\"\n",
    ")\n",
    "financial_specialist = factory.generate_person(\n",
    "  \"\"\"\n",
    "  金融のスペシャリスト。銀行業務、投資、資産運用に精通しており、金融市場の動向を常に把握している。\n",
    "  新しい金融商品やサービスの開発に携わっており、特にテクノロジーを活用した金融イノベーションに関心がある。\n",
    "  日本の金融業界の発展に貢献することを目指している。\n",
    "  \"\"\"\n",
    ")\n",
    "automotive_chairman = factory.generate_person(\n",
    "  \"\"\"\n",
    "  自動車業界の会長。自動車産業における豊富な経験と知識を持ち、業界の発展と革新に尽力している。\n",
    "  新しい技術やサービスの導入を推進し、グローバルな視点で自動車業界の未来を見据えている。\n",
    "  \"\"\"\n",
    ")\n",
    "\n",
    "ai_engineer.save_spec(\"./try/brainstorm_auto_traits/ai_engineer.json\")\n",
    "financial_specialist.save_spec(\"./try/brainstorm_auto_traits/financial_specialist.json\")\n",
    "automotive_chairman.save_spec(\"./try/brainstorm_auto_traits/automotive_chairman.json\")"
   ]
  },
  {
   "cell_type": "markdown",
   "metadata": {},
   "source": [
    "## TinyWorldを定義"
   ]
  },
  {
   "cell_type": "code",
   "execution_count": null,
   "metadata": {},
   "outputs": [],
   "source": [
    "world = TinyWorld(\"Meeting Room\", [ai_engineer, financial_specialist, automotive_chairman])\n",
    "world.make_everyone_accessible()\n",
    "\n",
    "instruct = '''\n",
    "新しい日本の産業を生み出すためのワークショップです。\n",
    "自由な発想で新たなサービスを考え、議論してください！！！\n",
    "'''"
   ]
  },
  {
   "cell_type": "markdown",
   "metadata": {},
   "source": [
    "## 実行"
   ]
  },
  {
   "cell_type": "code",
   "execution_count": null,
   "metadata": {},
   "outputs": [],
   "source": [
    "world.broadcast(instruct)\n",
    "\n",
    "world.run(6)"
   ]
  },
  {
   "cell_type": "markdown",
   "metadata": {},
   "source": [
    "## 結果の出力"
   ]
  },
  {
   "cell_type": "code",
   "execution_count": null,
   "metadata": {},
   "outputs": [],
   "source": [
    "# 結果の出力\n",
    "extractor = ResultsExtractor()\n",
    "\n",
    "results = extractor.extract_results_from_world(world, extraction_objective=\"会話の内容を要約してください。重要な議論はより詳細に説明してください。\")\n",
    "\n",
    "print(\"results: \", results)"
   ]
  }
 ],
 "metadata": {
  "kernelspec": {
   "display_name": "Python 3",
   "language": "python",
   "name": "python3"
  },
  "language_info": {
   "codemirror_mode": {
    "name": "ipython",
    "version": 3
   },
   "file_extension": ".py",
   "mimetype": "text/x-python",
   "name": "python",
   "nbconvert_exporter": "python",
   "pygments_lexer": "ipython3",
   "version": "3.11.9"
  }
 },
 "nbformat": 4,
 "nbformat_minor": 2
}
